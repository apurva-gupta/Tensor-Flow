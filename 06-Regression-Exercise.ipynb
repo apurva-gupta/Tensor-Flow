{
 "cells": [
  {
   "cell_type": "markdown",
   "metadata": {},
   "source": [
    "# Regression Exercise Using Tensorflow\n",
    "\n",
    "California Housing Data\n",
    "\n",
    "This data set contains information about all the block groups in California from the 1990 Census. In this sample a block group on average includes 1425.5 individuals living in a geographically compact area. \n",
    "\n",
    "The task is to aproximate the median house value of each block from the values of the rest of the variables. \n",
    "\n",
    " It has been obtained from the LIACC repository. The original page where the data set can be found is: http://www.liaad.up.pt/~ltorgo/Regression/DataSets.html.\n",
    " "
   ]
  },
  {
   "cell_type": "markdown",
   "metadata": {
    "collapsed": true
   },
   "source": [
    "The Features:\n",
    " \n",
    "* housingMedianAge: continuous. \n",
    "* totalRooms: continuous. \n",
    "* totalBedrooms: continuous. \n",
    "* population: continuous. \n",
    "* households: continuous. \n",
    "* medianIncome: continuous. \n",
    "* medianHouseValue: continuous. "
   ]
  },
  {
   "cell_type": "markdown",
   "metadata": {},
   "source": [
    "## The Data"
   ]
  },
  {
   "cell_type": "markdown",
   "metadata": {},
   "source": [
    "** Import the cal_housing_clean.csv file with pandas.**"
   ]
  },
  {
   "cell_type": "code",
   "execution_count": 102,
   "metadata": {
    "collapsed": true
   },
   "outputs": [],
   "source": [
    "import pandas as pd"
   ]
  },
  {
   "cell_type": "code",
   "execution_count": 103,
   "metadata": {
    "collapsed": true
   },
   "outputs": [],
   "source": [
    "housing_data = pd.read_csv('cal_housing_clean.csv')"
   ]
  },
  {
   "cell_type": "code",
   "execution_count": 104,
   "metadata": {},
   "outputs": [
    {
     "data": {
      "text/html": [
       "<div>\n",
       "<style>\n",
       "    .dataframe thead tr:only-child th {\n",
       "        text-align: right;\n",
       "    }\n",
       "\n",
       "    .dataframe thead th {\n",
       "        text-align: left;\n",
       "    }\n",
       "\n",
       "    .dataframe tbody tr th {\n",
       "        vertical-align: top;\n",
       "    }\n",
       "</style>\n",
       "<table border=\"1\" class=\"dataframe\">\n",
       "  <thead>\n",
       "    <tr style=\"text-align: right;\">\n",
       "      <th></th>\n",
       "      <th>housingMedianAge</th>\n",
       "      <th>totalRooms</th>\n",
       "      <th>totalBedrooms</th>\n",
       "      <th>population</th>\n",
       "      <th>households</th>\n",
       "      <th>medianIncome</th>\n",
       "      <th>medianHouseValue</th>\n",
       "    </tr>\n",
       "  </thead>\n",
       "  <tbody>\n",
       "    <tr>\n",
       "      <th>0</th>\n",
       "      <td>41.0</td>\n",
       "      <td>880.0</td>\n",
       "      <td>129.0</td>\n",
       "      <td>322.0</td>\n",
       "      <td>126.0</td>\n",
       "      <td>8.3252</td>\n",
       "      <td>452600.0</td>\n",
       "    </tr>\n",
       "    <tr>\n",
       "      <th>1</th>\n",
       "      <td>21.0</td>\n",
       "      <td>7099.0</td>\n",
       "      <td>1106.0</td>\n",
       "      <td>2401.0</td>\n",
       "      <td>1138.0</td>\n",
       "      <td>8.3014</td>\n",
       "      <td>358500.0</td>\n",
       "    </tr>\n",
       "    <tr>\n",
       "      <th>2</th>\n",
       "      <td>52.0</td>\n",
       "      <td>1467.0</td>\n",
       "      <td>190.0</td>\n",
       "      <td>496.0</td>\n",
       "      <td>177.0</td>\n",
       "      <td>7.2574</td>\n",
       "      <td>352100.0</td>\n",
       "    </tr>\n",
       "    <tr>\n",
       "      <th>3</th>\n",
       "      <td>52.0</td>\n",
       "      <td>1274.0</td>\n",
       "      <td>235.0</td>\n",
       "      <td>558.0</td>\n",
       "      <td>219.0</td>\n",
       "      <td>5.6431</td>\n",
       "      <td>341300.0</td>\n",
       "    </tr>\n",
       "    <tr>\n",
       "      <th>4</th>\n",
       "      <td>52.0</td>\n",
       "      <td>1627.0</td>\n",
       "      <td>280.0</td>\n",
       "      <td>565.0</td>\n",
       "      <td>259.0</td>\n",
       "      <td>3.8462</td>\n",
       "      <td>342200.0</td>\n",
       "    </tr>\n",
       "  </tbody>\n",
       "</table>\n",
       "</div>"
      ],
      "text/plain": [
       "   housingMedianAge  totalRooms  totalBedrooms  population  households  \\\n",
       "0              41.0       880.0          129.0       322.0       126.0   \n",
       "1              21.0      7099.0         1106.0      2401.0      1138.0   \n",
       "2              52.0      1467.0          190.0       496.0       177.0   \n",
       "3              52.0      1274.0          235.0       558.0       219.0   \n",
       "4              52.0      1627.0          280.0       565.0       259.0   \n",
       "\n",
       "   medianIncome  medianHouseValue  \n",
       "0        8.3252          452600.0  \n",
       "1        8.3014          358500.0  \n",
       "2        7.2574          352100.0  \n",
       "3        5.6431          341300.0  \n",
       "4        3.8462          342200.0  "
      ]
     },
     "execution_count": 104,
     "metadata": {},
     "output_type": "execute_result"
    }
   ],
   "source": [
    "housing_data.head()"
   ]
  },
  {
   "cell_type": "code",
   "execution_count": 105,
   "metadata": {},
   "outputs": [
    {
     "data": {
      "text/html": [
       "<div>\n",
       "<style>\n",
       "    .dataframe thead tr:only-child th {\n",
       "        text-align: right;\n",
       "    }\n",
       "\n",
       "    .dataframe thead th {\n",
       "        text-align: left;\n",
       "    }\n",
       "\n",
       "    .dataframe tbody tr th {\n",
       "        vertical-align: top;\n",
       "    }\n",
       "</style>\n",
       "<table border=\"1\" class=\"dataframe\">\n",
       "  <thead>\n",
       "    <tr style=\"text-align: right;\">\n",
       "      <th></th>\n",
       "      <th>count</th>\n",
       "      <th>mean</th>\n",
       "      <th>std</th>\n",
       "      <th>min</th>\n",
       "      <th>25%</th>\n",
       "      <th>50%</th>\n",
       "      <th>75%</th>\n",
       "      <th>max</th>\n",
       "    </tr>\n",
       "  </thead>\n",
       "  <tbody>\n",
       "    <tr>\n",
       "      <th>housingMedianAge</th>\n",
       "      <td>20640.0</td>\n",
       "      <td>28.639486</td>\n",
       "      <td>12.585558</td>\n",
       "      <td>1.0000</td>\n",
       "      <td>18.0000</td>\n",
       "      <td>29.0000</td>\n",
       "      <td>37.00000</td>\n",
       "      <td>52.0000</td>\n",
       "    </tr>\n",
       "    <tr>\n",
       "      <th>totalRooms</th>\n",
       "      <td>20640.0</td>\n",
       "      <td>2635.763081</td>\n",
       "      <td>2181.615252</td>\n",
       "      <td>2.0000</td>\n",
       "      <td>1447.7500</td>\n",
       "      <td>2127.0000</td>\n",
       "      <td>3148.00000</td>\n",
       "      <td>39320.0000</td>\n",
       "    </tr>\n",
       "    <tr>\n",
       "      <th>totalBedrooms</th>\n",
       "      <td>20640.0</td>\n",
       "      <td>537.898014</td>\n",
       "      <td>421.247906</td>\n",
       "      <td>1.0000</td>\n",
       "      <td>295.0000</td>\n",
       "      <td>435.0000</td>\n",
       "      <td>647.00000</td>\n",
       "      <td>6445.0000</td>\n",
       "    </tr>\n",
       "    <tr>\n",
       "      <th>population</th>\n",
       "      <td>20640.0</td>\n",
       "      <td>1425.476744</td>\n",
       "      <td>1132.462122</td>\n",
       "      <td>3.0000</td>\n",
       "      <td>787.0000</td>\n",
       "      <td>1166.0000</td>\n",
       "      <td>1725.00000</td>\n",
       "      <td>35682.0000</td>\n",
       "    </tr>\n",
       "    <tr>\n",
       "      <th>households</th>\n",
       "      <td>20640.0</td>\n",
       "      <td>499.539680</td>\n",
       "      <td>382.329753</td>\n",
       "      <td>1.0000</td>\n",
       "      <td>280.0000</td>\n",
       "      <td>409.0000</td>\n",
       "      <td>605.00000</td>\n",
       "      <td>6082.0000</td>\n",
       "    </tr>\n",
       "    <tr>\n",
       "      <th>medianIncome</th>\n",
       "      <td>20640.0</td>\n",
       "      <td>3.870671</td>\n",
       "      <td>1.899822</td>\n",
       "      <td>0.4999</td>\n",
       "      <td>2.5634</td>\n",
       "      <td>3.5348</td>\n",
       "      <td>4.74325</td>\n",
       "      <td>15.0001</td>\n",
       "    </tr>\n",
       "    <tr>\n",
       "      <th>medianHouseValue</th>\n",
       "      <td>20640.0</td>\n",
       "      <td>206855.816909</td>\n",
       "      <td>115395.615874</td>\n",
       "      <td>14999.0000</td>\n",
       "      <td>119600.0000</td>\n",
       "      <td>179700.0000</td>\n",
       "      <td>264725.00000</td>\n",
       "      <td>500001.0000</td>\n",
       "    </tr>\n",
       "  </tbody>\n",
       "</table>\n",
       "</div>"
      ],
      "text/plain": [
       "                    count           mean            std         min  \\\n",
       "housingMedianAge  20640.0      28.639486      12.585558      1.0000   \n",
       "totalRooms        20640.0    2635.763081    2181.615252      2.0000   \n",
       "totalBedrooms     20640.0     537.898014     421.247906      1.0000   \n",
       "population        20640.0    1425.476744    1132.462122      3.0000   \n",
       "households        20640.0     499.539680     382.329753      1.0000   \n",
       "medianIncome      20640.0       3.870671       1.899822      0.4999   \n",
       "medianHouseValue  20640.0  206855.816909  115395.615874  14999.0000   \n",
       "\n",
       "                          25%          50%           75%          max  \n",
       "housingMedianAge      18.0000      29.0000      37.00000      52.0000  \n",
       "totalRooms          1447.7500    2127.0000    3148.00000   39320.0000  \n",
       "totalBedrooms        295.0000     435.0000     647.00000    6445.0000  \n",
       "population           787.0000    1166.0000    1725.00000   35682.0000  \n",
       "households           280.0000     409.0000     605.00000    6082.0000  \n",
       "medianIncome           2.5634       3.5348       4.74325      15.0001  \n",
       "medianHouseValue  119600.0000  179700.0000  264725.00000  500001.0000  "
      ]
     },
     "execution_count": 105,
     "metadata": {},
     "output_type": "execute_result"
    }
   ],
   "source": [
    "housing_data.describe().transpose()"
   ]
  },
  {
   "cell_type": "code",
   "execution_count": 106,
   "metadata": {
    "scrolled": true
   },
   "outputs": [],
   "source": [
    "x_data = housing_data.drop(['medianHouseValue'],axis=1)"
   ]
  },
  {
   "cell_type": "code",
   "execution_count": 107,
   "metadata": {
    "collapsed": true
   },
   "outputs": [],
   "source": [
    "y_data = housing_data['medianHouseValue']"
   ]
  },
  {
   "cell_type": "code",
   "execution_count": 108,
   "metadata": {
    "collapsed": true
   },
   "outputs": [],
   "source": [
    "from sklearn.model_selection import train_test_split"
   ]
  },
  {
   "cell_type": "code",
   "execution_count": 109,
   "metadata": {},
   "outputs": [],
   "source": [
    "x_train, x_test, y_train, y_test = train_test_split(x_data,y_data,test_size=0.3,random_state=101)"
   ]
  },
  {
   "cell_type": "markdown",
   "metadata": {},
   "source": [
    "### Scale the Feature Data\n",
    "\n",
    "** Use sklearn preprocessing to create a MinMaxScaler for the feature data. Fit this scaler only to the training data. Then use it to transform X_test and X_train. Then use the scaled X_test and X_train along with pd.Dataframe to re-create two dataframes of scaled data.**"
   ]
  },
  {
   "cell_type": "code",
   "execution_count": 111,
   "metadata": {
    "collapsed": true
   },
   "outputs": [],
   "source": [
    "from sklearn.preprocessing import MinMaxScaler"
   ]
  },
  {
   "cell_type": "code",
   "execution_count": 112,
   "metadata": {
    "collapsed": true
   },
   "outputs": [],
   "source": [
    "scaler = MinMaxScaler()"
   ]
  },
  {
   "cell_type": "code",
   "execution_count": 113,
   "metadata": {},
   "outputs": [
    {
     "data": {
      "text/plain": [
       "MinMaxScaler(copy=True, feature_range=(0, 1))"
      ]
     },
     "execution_count": 113,
     "metadata": {},
     "output_type": "execute_result"
    }
   ],
   "source": [
    "scaler.fit(x_train)"
   ]
  },
  {
   "cell_type": "code",
   "execution_count": 114,
   "metadata": {
    "collapsed": true
   },
   "outputs": [],
   "source": [
    "x_train = pd.DataFrame(data=scaler.transform(x_train),columns = x_train.columns,index=x_train.index)"
   ]
  },
  {
   "cell_type": "code",
   "execution_count": 115,
   "metadata": {},
   "outputs": [],
   "source": [
    "x_test = pd.DataFrame(data=scaler.transform(x_test),columns = x_test.columns,index=x_test.index)"
   ]
  },
  {
   "cell_type": "code",
   "execution_count": 116,
   "metadata": {},
   "outputs": [
    {
     "data": {
      "text/html": [
       "<div>\n",
       "<style>\n",
       "    .dataframe thead tr:only-child th {\n",
       "        text-align: right;\n",
       "    }\n",
       "\n",
       "    .dataframe thead th {\n",
       "        text-align: left;\n",
       "    }\n",
       "\n",
       "    .dataframe tbody tr th {\n",
       "        vertical-align: top;\n",
       "    }\n",
       "</style>\n",
       "<table border=\"1\" class=\"dataframe\">\n",
       "  <thead>\n",
       "    <tr style=\"text-align: right;\">\n",
       "      <th></th>\n",
       "      <th>housingMedianAge</th>\n",
       "      <th>totalRooms</th>\n",
       "      <th>totalBedrooms</th>\n",
       "      <th>population</th>\n",
       "      <th>households</th>\n",
       "      <th>medianIncome</th>\n",
       "    </tr>\n",
       "  </thead>\n",
       "  <tbody>\n",
       "    <tr>\n",
       "      <th>6761</th>\n",
       "      <td>0.352941</td>\n",
       "      <td>0.069688</td>\n",
       "      <td>0.117163</td>\n",
       "      <td>0.048769</td>\n",
       "      <td>0.115442</td>\n",
       "      <td>0.142508</td>\n",
       "    </tr>\n",
       "    <tr>\n",
       "      <th>3010</th>\n",
       "      <td>0.607843</td>\n",
       "      <td>0.011242</td>\n",
       "      <td>0.015673</td>\n",
       "      <td>0.008367</td>\n",
       "      <td>0.014142</td>\n",
       "      <td>0.045027</td>\n",
       "    </tr>\n",
       "    <tr>\n",
       "      <th>7812</th>\n",
       "      <td>0.666667</td>\n",
       "      <td>0.025230</td>\n",
       "      <td>0.031347</td>\n",
       "      <td>0.020971</td>\n",
       "      <td>0.030258</td>\n",
       "      <td>0.212866</td>\n",
       "    </tr>\n",
       "    <tr>\n",
       "      <th>8480</th>\n",
       "      <td>0.666667</td>\n",
       "      <td>0.032530</td>\n",
       "      <td>0.033830</td>\n",
       "      <td>0.024752</td>\n",
       "      <td>0.030094</td>\n",
       "      <td>0.298651</td>\n",
       "    </tr>\n",
       "    <tr>\n",
       "      <th>1051</th>\n",
       "      <td>0.294118</td>\n",
       "      <td>0.031919</td>\n",
       "      <td>0.035692</td>\n",
       "      <td>0.019466</td>\n",
       "      <td>0.034863</td>\n",
       "      <td>0.272631</td>\n",
       "    </tr>\n",
       "  </tbody>\n",
       "</table>\n",
       "</div>"
      ],
      "text/plain": [
       "      housingMedianAge  totalRooms  totalBedrooms  population  households  \\\n",
       "6761          0.352941    0.069688       0.117163    0.048769    0.115442   \n",
       "3010          0.607843    0.011242       0.015673    0.008367    0.014142   \n",
       "7812          0.666667    0.025230       0.031347    0.020971    0.030258   \n",
       "8480          0.666667    0.032530       0.033830    0.024752    0.030094   \n",
       "1051          0.294118    0.031919       0.035692    0.019466    0.034863   \n",
       "\n",
       "      medianIncome  \n",
       "6761      0.142508  \n",
       "3010      0.045027  \n",
       "7812      0.212866  \n",
       "8480      0.298651  \n",
       "1051      0.272631  "
      ]
     },
     "execution_count": 116,
     "metadata": {},
     "output_type": "execute_result"
    }
   ],
   "source": [
    "x_train.head()"
   ]
  },
  {
   "cell_type": "code",
   "execution_count": 117,
   "metadata": {},
   "outputs": [
    {
     "data": {
      "text/html": [
       "<div>\n",
       "<style>\n",
       "    .dataframe thead tr:only-child th {\n",
       "        text-align: right;\n",
       "    }\n",
       "\n",
       "    .dataframe thead th {\n",
       "        text-align: left;\n",
       "    }\n",
       "\n",
       "    .dataframe tbody tr th {\n",
       "        vertical-align: top;\n",
       "    }\n",
       "</style>\n",
       "<table border=\"1\" class=\"dataframe\">\n",
       "  <thead>\n",
       "    <tr style=\"text-align: right;\">\n",
       "      <th></th>\n",
       "      <th>housingMedianAge</th>\n",
       "      <th>totalRooms</th>\n",
       "      <th>totalBedrooms</th>\n",
       "      <th>population</th>\n",
       "      <th>households</th>\n",
       "      <th>medianIncome</th>\n",
       "    </tr>\n",
       "  </thead>\n",
       "  <tbody>\n",
       "    <tr>\n",
       "      <th>16086</th>\n",
       "      <td>0.686275</td>\n",
       "      <td>0.046264</td>\n",
       "      <td>0.045158</td>\n",
       "      <td>0.025873</td>\n",
       "      <td>0.048841</td>\n",
       "      <td>0.353133</td>\n",
       "    </tr>\n",
       "    <tr>\n",
       "      <th>8816</th>\n",
       "      <td>0.705882</td>\n",
       "      <td>0.027417</td>\n",
       "      <td>0.020795</td>\n",
       "      <td>0.012709</td>\n",
       "      <td>0.023187</td>\n",
       "      <td>0.770182</td>\n",
       "    </tr>\n",
       "    <tr>\n",
       "      <th>7175</th>\n",
       "      <td>0.901961</td>\n",
       "      <td>0.032326</td>\n",
       "      <td>0.040813</td>\n",
       "      <td>0.041662</td>\n",
       "      <td>0.042592</td>\n",
       "      <td>0.133626</td>\n",
       "    </tr>\n",
       "    <tr>\n",
       "      <th>16714</th>\n",
       "      <td>0.313725</td>\n",
       "      <td>0.043212</td>\n",
       "      <td>0.046089</td>\n",
       "      <td>0.032840</td>\n",
       "      <td>0.048018</td>\n",
       "      <td>0.263576</td>\n",
       "    </tr>\n",
       "    <tr>\n",
       "      <th>14491</th>\n",
       "      <td>0.411765</td>\n",
       "      <td>0.088433</td>\n",
       "      <td>0.069367</td>\n",
       "      <td>0.043728</td>\n",
       "      <td>0.072192</td>\n",
       "      <td>0.660046</td>\n",
       "    </tr>\n",
       "  </tbody>\n",
       "</table>\n",
       "</div>"
      ],
      "text/plain": [
       "       housingMedianAge  totalRooms  totalBedrooms  population  households  \\\n",
       "16086          0.686275    0.046264       0.045158    0.025873    0.048841   \n",
       "8816           0.705882    0.027417       0.020795    0.012709    0.023187   \n",
       "7175           0.901961    0.032326       0.040813    0.041662    0.042592   \n",
       "16714          0.313725    0.043212       0.046089    0.032840    0.048018   \n",
       "14491          0.411765    0.088433       0.069367    0.043728    0.072192   \n",
       "\n",
       "       medianIncome  \n",
       "16086      0.353133  \n",
       "8816       0.770182  \n",
       "7175       0.133626  \n",
       "16714      0.263576  \n",
       "14491      0.660046  "
      ]
     },
     "execution_count": 117,
     "metadata": {},
     "output_type": "execute_result"
    }
   ],
   "source": [
    "x_test.head()"
   ]
  },
  {
   "cell_type": "markdown",
   "metadata": {},
   "source": [
    "### Create Feature Columns\n",
    "\n",
    "** Create the necessary tf.feature_column objects for the estimator. They should all be trated as continuous numeric_columns. **"
   ]
  },
  {
   "cell_type": "code",
   "execution_count": 118,
   "metadata": {
    "collapsed": true
   },
   "outputs": [],
   "source": [
    "import tensorflow as tf"
   ]
  },
  {
   "cell_type": "code",
   "execution_count": 142,
   "metadata": {},
   "outputs": [
    {
     "data": {
      "text/html": [
       "<div>\n",
       "<style>\n",
       "    .dataframe thead tr:only-child th {\n",
       "        text-align: right;\n",
       "    }\n",
       "\n",
       "    .dataframe thead th {\n",
       "        text-align: left;\n",
       "    }\n",
       "\n",
       "    .dataframe tbody tr th {\n",
       "        vertical-align: top;\n",
       "    }\n",
       "</style>\n",
       "<table border=\"1\" class=\"dataframe\">\n",
       "  <thead>\n",
       "    <tr style=\"text-align: right;\">\n",
       "      <th></th>\n",
       "      <th>housingMedianAge</th>\n",
       "      <th>totalRooms</th>\n",
       "      <th>totalBedrooms</th>\n",
       "      <th>population</th>\n",
       "      <th>households</th>\n",
       "      <th>medianIncome</th>\n",
       "      <th>medianHouseValue</th>\n",
       "    </tr>\n",
       "  </thead>\n",
       "  <tbody>\n",
       "    <tr>\n",
       "      <th>0</th>\n",
       "      <td>41.0</td>\n",
       "      <td>880.0</td>\n",
       "      <td>129.0</td>\n",
       "      <td>322.0</td>\n",
       "      <td>126.0</td>\n",
       "      <td>8.3252</td>\n",
       "      <td>452600.0</td>\n",
       "    </tr>\n",
       "    <tr>\n",
       "      <th>1</th>\n",
       "      <td>21.0</td>\n",
       "      <td>7099.0</td>\n",
       "      <td>1106.0</td>\n",
       "      <td>2401.0</td>\n",
       "      <td>1138.0</td>\n",
       "      <td>8.3014</td>\n",
       "      <td>358500.0</td>\n",
       "    </tr>\n",
       "    <tr>\n",
       "      <th>2</th>\n",
       "      <td>52.0</td>\n",
       "      <td>1467.0</td>\n",
       "      <td>190.0</td>\n",
       "      <td>496.0</td>\n",
       "      <td>177.0</td>\n",
       "      <td>7.2574</td>\n",
       "      <td>352100.0</td>\n",
       "    </tr>\n",
       "    <tr>\n",
       "      <th>3</th>\n",
       "      <td>52.0</td>\n",
       "      <td>1274.0</td>\n",
       "      <td>235.0</td>\n",
       "      <td>558.0</td>\n",
       "      <td>219.0</td>\n",
       "      <td>5.6431</td>\n",
       "      <td>341300.0</td>\n",
       "    </tr>\n",
       "    <tr>\n",
       "      <th>4</th>\n",
       "      <td>52.0</td>\n",
       "      <td>1627.0</td>\n",
       "      <td>280.0</td>\n",
       "      <td>565.0</td>\n",
       "      <td>259.0</td>\n",
       "      <td>3.8462</td>\n",
       "      <td>342200.0</td>\n",
       "    </tr>\n",
       "  </tbody>\n",
       "</table>\n",
       "</div>"
      ],
      "text/plain": [
       "   housingMedianAge  totalRooms  totalBedrooms  population  households  \\\n",
       "0              41.0       880.0          129.0       322.0       126.0   \n",
       "1              21.0      7099.0         1106.0      2401.0      1138.0   \n",
       "2              52.0      1467.0          190.0       496.0       177.0   \n",
       "3              52.0      1274.0          235.0       558.0       219.0   \n",
       "4              52.0      1627.0          280.0       565.0       259.0   \n",
       "\n",
       "   medianIncome  medianHouseValue  \n",
       "0        8.3252          452600.0  \n",
       "1        8.3014          358500.0  \n",
       "2        7.2574          352100.0  \n",
       "3        5.6431          341300.0  \n",
       "4        3.8462          342200.0  "
      ]
     },
     "execution_count": 142,
     "metadata": {},
     "output_type": "execute_result"
    }
   ],
   "source": [
    "housing_data.head()"
   ]
  },
  {
   "cell_type": "code",
   "execution_count": 143,
   "metadata": {},
   "outputs": [
    {
     "data": {
      "text/plain": [
       "Index(['housingMedianAge', 'totalRooms', 'totalBedrooms', 'population',\n",
       "       'households', 'medianIncome', 'medianHouseValue'],\n",
       "      dtype='object')"
      ]
     },
     "execution_count": 143,
     "metadata": {},
     "output_type": "execute_result"
    }
   ],
   "source": [
    "housing_data.columns"
   ]
  },
  {
   "cell_type": "code",
   "execution_count": 144,
   "metadata": {
    "collapsed": true
   },
   "outputs": [],
   "source": [
    "age = tf.feature_column.numeric_column('housingMedianAge')\n",
    "rooms = tf.feature_column.numeric_column('totalRooms')\n",
    "bedrooms = tf.feature_column.numeric_column('totalBedrooms')\n",
    "population = tf.feature_column.numeric_column('population')\n",
    "households = tf.feature_column.numeric_column('households')\n",
    "income = tf.feature_column.numeric_column('medianIncome')"
   ]
  },
  {
   "cell_type": "code",
   "execution_count": 145,
   "metadata": {
    "collapsed": true
   },
   "outputs": [],
   "source": [
    "feat_cols = [age,rooms,bedrooms,population,households,income]"
   ]
  },
  {
   "cell_type": "markdown",
   "metadata": {},
   "source": [
    "** Create the input function for the estimator object.**"
   ]
  },
  {
   "cell_type": "code",
   "execution_count": 146,
   "metadata": {},
   "outputs": [],
   "source": [
    "input_func = tf.estimator.inputs.pandas_input_fn(x_train, y_train,batch_size=10,num_epochs=1000,shuffle=True)"
   ]
  },
  {
   "cell_type": "markdown",
   "metadata": {},
   "source": [
    "** Create the estimator model using a DNNRegressor.**"
   ]
  },
  {
   "cell_type": "code",
   "execution_count": 147,
   "metadata": {},
   "outputs": [
    {
     "name": "stdout",
     "output_type": "stream",
     "text": [
      "INFO:tensorflow:Using default config.\n",
      "WARNING:tensorflow:Using temporary folder as model directory: C:\\Users\\apurv\\AppData\\Local\\Temp\\tmpwyhj4b0h\n",
      "INFO:tensorflow:Using config: {'_model_dir': 'C:\\\\Users\\\\apurv\\\\AppData\\\\Local\\\\Temp\\\\tmpwyhj4b0h', '_keep_checkpoint_every_n_hours': 10000, '_save_summary_steps': 100, '_tf_random_seed': 1, '_save_checkpoints_steps': None, '_save_checkpoints_secs': 600, '_log_step_count_steps': 100, '_keep_checkpoint_max': 5, '_session_config': None}\n"
     ]
    }
   ],
   "source": [
    "model = tf.estimator.DNNRegressor(hidden_units=[6,6,6],feature_columns=feat_cols)"
   ]
  },
  {
   "cell_type": "markdown",
   "metadata": {},
   "source": [
    "##### ** Training the model. **"
   ]
  },
  {
   "cell_type": "code",
   "execution_count": 148,
   "metadata": {},
   "outputs": [
    {
     "name": "stdout",
     "output_type": "stream",
     "text": [
      "INFO:tensorflow:Create CheckpointSaverHook.\n",
      "INFO:tensorflow:Saving checkpoints for 1 into C:\\Users\\apurv\\AppData\\Local\\Temp\\tmpwyhj4b0h\\model.ckpt.\n",
      "INFO:tensorflow:step = 1, loss = 8.35477e+11\n",
      "INFO:tensorflow:global_step/sec: 619.669\n",
      "INFO:tensorflow:step = 101, loss = 5.39826e+11 (0.177 sec)\n",
      "INFO:tensorflow:global_step/sec: 533.006\n",
      "INFO:tensorflow:step = 201, loss = 6.60712e+11 (0.174 sec)\n",
      "INFO:tensorflow:global_step/sec: 684.552\n",
      "INFO:tensorflow:step = 301, loss = 3.54451e+11 (0.160 sec)\n",
      "INFO:tensorflow:global_step/sec: 595.631\n",
      "INFO:tensorflow:step = 401, loss = 6.77353e+11 (0.152 sec)\n",
      "INFO:tensorflow:global_step/sec: 662.539\n",
      "INFO:tensorflow:step = 501, loss = 3.33814e+11 (0.151 sec)\n",
      "INFO:tensorflow:global_step/sec: 568.312\n",
      "INFO:tensorflow:step = 601, loss = 4.79527e+11 (0.176 sec)\n",
      "INFO:tensorflow:global_step/sec: 634.853\n",
      "INFO:tensorflow:step = 701, loss = 2.4098e+11 (0.158 sec)\n",
      "INFO:tensorflow:global_step/sec: 604.767\n",
      "INFO:tensorflow:step = 801, loss = 4.91324e+11 (0.165 sec)\n",
      "INFO:tensorflow:global_step/sec: 663.487\n",
      "INFO:tensorflow:step = 901, loss = 2.87173e+11 (0.151 sec)\n",
      "INFO:tensorflow:global_step/sec: 747.065\n",
      "INFO:tensorflow:step = 1001, loss = 3.00891e+11 (0.149 sec)\n",
      "INFO:tensorflow:global_step/sec: 605.894\n",
      "INFO:tensorflow:step = 1101, loss = 2.71175e+11 (0.149 sec)\n",
      "INFO:tensorflow:global_step/sec: 598.215\n",
      "INFO:tensorflow:step = 1201, loss = 9.34063e+10 (0.167 sec)\n",
      "INFO:tensorflow:global_step/sec: 598.536\n",
      "INFO:tensorflow:step = 1301, loss = 9.9281e+10 (0.167 sec)\n",
      "INFO:tensorflow:global_step/sec: 598.384\n",
      "INFO:tensorflow:step = 1401, loss = 3.42246e+11 (0.167 sec)\n",
      "INFO:tensorflow:global_step/sec: 605.233\n",
      "INFO:tensorflow:step = 1501, loss = 1.69334e+11 (0.165 sec)\n",
      "INFO:tensorflow:global_step/sec: 592.392\n",
      "INFO:tensorflow:step = 1601, loss = 4.74429e+10 (0.169 sec)\n",
      "INFO:tensorflow:global_step/sec: 601.07\n",
      "INFO:tensorflow:step = 1701, loss = 8.91611e+10 (0.182 sec)\n",
      "INFO:tensorflow:global_step/sec: 599.783\n",
      "INFO:tensorflow:step = 1801, loss = 1.50096e+11 (0.151 sec)\n",
      "INFO:tensorflow:global_step/sec: 668.513\n",
      "INFO:tensorflow:step = 1901, loss = 1.36096e+11 (0.150 sec)\n",
      "INFO:tensorflow:global_step/sec: 601.47\n",
      "INFO:tensorflow:step = 2001, loss = 1.61868e+11 (0.166 sec)\n",
      "INFO:tensorflow:global_step/sec: 661.141\n",
      "INFO:tensorflow:step = 2101, loss = 3.80961e+10 (0.151 sec)\n",
      "INFO:tensorflow:global_step/sec: 551.645\n",
      "INFO:tensorflow:step = 2201, loss = 3.82666e+10 (0.181 sec)\n",
      "INFO:tensorflow:global_step/sec: 625.207\n",
      "INFO:tensorflow:step = 2301, loss = 5.7107e+10 (0.165 sec)\n",
      "INFO:tensorflow:global_step/sec: 632.856\n",
      "INFO:tensorflow:step = 2401, loss = 3.2076e+10 (0.153 sec)\n",
      "INFO:tensorflow:global_step/sec: 598.917\n",
      "INFO:tensorflow:step = 2501, loss = 6.90102e+10 (0.167 sec)\n",
      "INFO:tensorflow:global_step/sec: 600.509\n",
      "INFO:tensorflow:step = 2601, loss = 1.3591e+11 (0.182 sec)\n",
      "INFO:tensorflow:global_step/sec: 546.041\n",
      "INFO:tensorflow:step = 2701, loss = 3.12527e+10 (0.167 sec)\n",
      "INFO:tensorflow:global_step/sec: 665.509\n",
      "INFO:tensorflow:step = 2801, loss = 9.56506e+10 (0.150 sec)\n",
      "INFO:tensorflow:global_step/sec: 553.381\n",
      "INFO:tensorflow:step = 2901, loss = 7.34028e+10 (0.181 sec)\n",
      "INFO:tensorflow:global_step/sec: 589.131\n",
      "INFO:tensorflow:step = 3001, loss = 1.52245e+11 (0.170 sec)\n",
      "INFO:tensorflow:global_step/sec: 605.953\n",
      "INFO:tensorflow:step = 3101, loss = 7.81483e+10 (0.165 sec)\n",
      "INFO:tensorflow:global_step/sec: 654.249\n",
      "INFO:tensorflow:step = 3201, loss = 2.6585e+10 (0.169 sec)\n",
      "INFO:tensorflow:global_step/sec: 668.587\n",
      "INFO:tensorflow:step = 3301, loss = 3.86609e+10 (0.149 sec)\n",
      "INFO:tensorflow:global_step/sec: 603.415\n",
      "INFO:tensorflow:step = 3401, loss = 6.44635e+10 (0.150 sec)\n",
      "INFO:tensorflow:global_step/sec: 739.728\n",
      "INFO:tensorflow:step = 3501, loss = 1.90685e+11 (0.151 sec)\n",
      "INFO:tensorflow:global_step/sec: 663.183\n",
      "INFO:tensorflow:step = 3601, loss = 4.63763e+10 (0.151 sec)\n",
      "INFO:tensorflow:global_step/sec: 549.209\n",
      "INFO:tensorflow:step = 3701, loss = 9.76622e+10 (0.168 sec)\n",
      "INFO:tensorflow:global_step/sec: 603.616\n",
      "INFO:tensorflow:step = 3801, loss = 5.10031e+10 (0.165 sec)\n",
      "INFO:tensorflow:global_step/sec: 600.256\n",
      "INFO:tensorflow:step = 3901, loss = 9.74851e+10 (0.167 sec)\n",
      "INFO:tensorflow:global_step/sec: 664.131\n",
      "INFO:tensorflow:step = 4001, loss = 2.45983e+11 (0.166 sec)\n",
      "INFO:tensorflow:global_step/sec: 599.966\n",
      "INFO:tensorflow:step = 4101, loss = 1.45908e+11 (0.167 sec)\n",
      "INFO:tensorflow:global_step/sec: 597.621\n",
      "INFO:tensorflow:step = 4201, loss = 1.11211e+11 (0.167 sec)\n",
      "INFO:tensorflow:global_step/sec: 549.776\n",
      "INFO:tensorflow:step = 4301, loss = 1.56135e+11 (0.166 sec)\n",
      "INFO:tensorflow:global_step/sec: 658.163\n",
      "INFO:tensorflow:step = 4401, loss = 1.72129e+11 (0.152 sec)\n",
      "INFO:tensorflow:global_step/sec: 598.874\n",
      "INFO:tensorflow:step = 4501, loss = 1.9461e+11 (0.167 sec)\n",
      "INFO:tensorflow:global_step/sec: 671.191\n",
      "INFO:tensorflow:step = 4601, loss = 6.0504e+10 (0.149 sec)\n",
      "INFO:tensorflow:global_step/sec: 598.834\n",
      "INFO:tensorflow:step = 4701, loss = 1.33191e+11 (0.167 sec)\n",
      "INFO:tensorflow:global_step/sec: 565.126\n",
      "INFO:tensorflow:step = 4801, loss = 1.85446e+11 (0.177 sec)\n",
      "INFO:tensorflow:global_step/sec: 566.812\n",
      "INFO:tensorflow:step = 4901, loss = 8.52735e+10 (0.180 sec)\n",
      "INFO:tensorflow:global_step/sec: 591.192\n",
      "INFO:tensorflow:step = 5001, loss = 9.59859e+10 (0.166 sec)\n",
      "INFO:tensorflow:global_step/sec: 619.191\n",
      "INFO:tensorflow:step = 5101, loss = 3.27898e+10 (0.162 sec)\n",
      "INFO:tensorflow:global_step/sec: 664.258\n",
      "INFO:tensorflow:step = 5201, loss = 1.36285e+11 (0.151 sec)\n",
      "INFO:tensorflow:global_step/sec: 607.541\n",
      "INFO:tensorflow:step = 5301, loss = 1.00065e+11 (0.165 sec)\n",
      "INFO:tensorflow:global_step/sec: 545.118\n",
      "INFO:tensorflow:step = 5401, loss = 1.49714e+11 (0.183 sec)\n",
      "INFO:tensorflow:global_step/sec: 573.641\n",
      "INFO:tensorflow:step = 5501, loss = 1.53841e+11 (0.177 sec)\n",
      "INFO:tensorflow:global_step/sec: 627.708\n",
      "INFO:tensorflow:step = 5601, loss = 8.8801e+10 (0.156 sec)\n",
      "INFO:tensorflow:global_step/sec: 605.646\n",
      "INFO:tensorflow:step = 5701, loss = 1.41076e+11 (0.165 sec)\n",
      "INFO:tensorflow:global_step/sec: 599.18\n",
      "INFO:tensorflow:step = 5801, loss = 6.83175e+10 (0.167 sec)\n",
      "INFO:tensorflow:global_step/sec: 619.267\n",
      "INFO:tensorflow:step = 5901, loss = 1.30922e+11 (0.161 sec)\n",
      "INFO:tensorflow:global_step/sec: 641.406\n",
      "INFO:tensorflow:step = 6001, loss = 9.76089e+10 (0.172 sec)\n",
      "INFO:tensorflow:global_step/sec: 588.656\n",
      "INFO:tensorflow:step = 6101, loss = 4.69337e+10 (0.154 sec)\n",
      "INFO:tensorflow:global_step/sec: 591.158\n",
      "INFO:tensorflow:step = 6201, loss = 1.06397e+11 (0.185 sec)\n",
      "INFO:tensorflow:global_step/sec: 560.723\n",
      "INFO:tensorflow:step = 6301, loss = 6.56838e+10 (0.178 sec)\n",
      "INFO:tensorflow:global_step/sec: 548.183\n",
      "INFO:tensorflow:step = 6401, loss = 2.08974e+11 (0.167 sec)\n",
      "INFO:tensorflow:global_step/sec: 592.905\n",
      "INFO:tensorflow:step = 6501, loss = 1.46564e+11 (0.169 sec)\n",
      "INFO:tensorflow:global_step/sec: 548.849\n",
      "INFO:tensorflow:step = 6601, loss = 8.7161e+10 (0.182 sec)\n",
      "INFO:tensorflow:global_step/sec: 645.366\n",
      "INFO:tensorflow:step = 6701, loss = 6.08232e+10 (0.155 sec)\n",
      "INFO:tensorflow:global_step/sec: 613.356\n",
      "INFO:tensorflow:step = 6801, loss = 5.65091e+10 (0.163 sec)\n",
      "INFO:tensorflow:global_step/sec: 667.029\n",
      "INFO:tensorflow:step = 6901, loss = 7.04695e+10 (0.166 sec)\n",
      "INFO:tensorflow:global_step/sec: 665.748\n",
      "INFO:tensorflow:step = 7001, loss = 4.5319e+10 (0.150 sec)\n",
      "INFO:tensorflow:global_step/sec: 602.322\n",
      "INFO:tensorflow:step = 7101, loss = 1.09105e+11 (0.150 sec)\n",
      "INFO:tensorflow:global_step/sec: 589.592\n",
      "INFO:tensorflow:step = 7201, loss = 1.08104e+11 (0.170 sec)\n",
      "INFO:tensorflow:global_step/sec: 611.342\n",
      "INFO:tensorflow:step = 7301, loss = 6.72448e+10 (0.179 sec)\n",
      "INFO:tensorflow:global_step/sec: 548.56\n",
      "INFO:tensorflow:step = 7401, loss = 1.06e+11 (0.167 sec)\n",
      "INFO:tensorflow:global_step/sec: 663.659\n",
      "INFO:tensorflow:step = 7501, loss = 7.94929e+10 (0.151 sec)\n",
      "INFO:tensorflow:global_step/sec: 551.499\n",
      "INFO:tensorflow:step = 7601, loss = 1.09652e+11 (0.181 sec)\n",
      "INFO:tensorflow:global_step/sec: 651.101\n",
      "INFO:tensorflow:step = 7701, loss = 7.22549e+10 (0.154 sec)\n",
      "INFO:tensorflow:global_step/sec: 665.597\n",
      "INFO:tensorflow:step = 7801, loss = 1.32078e+11 (0.166 sec)\n",
      "INFO:tensorflow:global_step/sec: 543.885\n",
      "INFO:tensorflow:step = 7901, loss = 8.83681e+10 (0.171 sec)\n",
      "INFO:tensorflow:global_step/sec: 606.129\n",
      "INFO:tensorflow:step = 8001, loss = 7.84715e+10 (0.162 sec)\n"
     ]
    },
    {
     "name": "stdout",
     "output_type": "stream",
     "text": [
      "INFO:tensorflow:global_step/sec: 601.931\n",
      "INFO:tensorflow:step = 8101, loss = 1.15894e+11 (0.166 sec)\n",
      "INFO:tensorflow:global_step/sec: 669.818\n",
      "INFO:tensorflow:step = 8201, loss = 2.91842e+10 (0.149 sec)\n",
      "INFO:tensorflow:global_step/sec: 661.955\n",
      "INFO:tensorflow:step = 8301, loss = 1.27421e+11 (0.151 sec)\n",
      "INFO:tensorflow:global_step/sec: 672.719\n",
      "INFO:tensorflow:step = 8401, loss = 6.91805e+10 (0.164 sec)\n",
      "INFO:tensorflow:global_step/sec: 600.045\n",
      "INFO:tensorflow:step = 8501, loss = 2.04382e+11 (0.151 sec)\n",
      "INFO:tensorflow:global_step/sec: 603.345\n",
      "INFO:tensorflow:step = 8601, loss = 1.0059e+11 (0.166 sec)\n",
      "INFO:tensorflow:global_step/sec: 663.781\n",
      "INFO:tensorflow:step = 8701, loss = 1.63131e+11 (0.151 sec)\n",
      "INFO:tensorflow:global_step/sec: 604.086\n",
      "INFO:tensorflow:step = 8801, loss = 9.86711e+10 (0.166 sec)\n",
      "INFO:tensorflow:global_step/sec: 592.965\n",
      "INFO:tensorflow:step = 8901, loss = 1.53919e+11 (0.169 sec)\n",
      "INFO:tensorflow:global_step/sec: 604.972\n",
      "INFO:tensorflow:step = 9001, loss = 1.65157e+11 (0.165 sec)\n",
      "INFO:tensorflow:global_step/sec: 661.806\n",
      "INFO:tensorflow:step = 9101, loss = 7.97081e+10 (0.151 sec)\n",
      "INFO:tensorflow:global_step/sec: 658.636\n",
      "INFO:tensorflow:step = 9201, loss = 2.01089e+11 (0.168 sec)\n",
      "INFO:tensorflow:global_step/sec: 608.611\n",
      "INFO:tensorflow:step = 9301, loss = 1.0447e+11 (0.149 sec)\n",
      "INFO:tensorflow:global_step/sec: 595.729\n",
      "INFO:tensorflow:step = 9401, loss = 1.00221e+11 (0.168 sec)\n",
      "INFO:tensorflow:global_step/sec: 605.536\n",
      "INFO:tensorflow:step = 9501, loss = 1.46318e+11 (0.165 sec)\n",
      "INFO:tensorflow:global_step/sec: 660.912\n",
      "INFO:tensorflow:step = 9601, loss = 1.06889e+11 (0.167 sec)\n",
      "INFO:tensorflow:global_step/sec: 548.766\n",
      "INFO:tensorflow:step = 9701, loss = 1.09919e+11 (0.167 sec)\n",
      "INFO:tensorflow:global_step/sec: 600.246\n",
      "INFO:tensorflow:step = 9801, loss = 8.63149e+10 (0.167 sec)\n",
      "INFO:tensorflow:global_step/sec: 663.517\n",
      "INFO:tensorflow:step = 9901, loss = 6.77712e+10 (0.151 sec)\n",
      "INFO:tensorflow:global_step/sec: 604.286\n",
      "INFO:tensorflow:step = 10001, loss = 8.76714e+10 (0.165 sec)\n",
      "INFO:tensorflow:global_step/sec: 658.94\n",
      "INFO:tensorflow:step = 10101, loss = 1.04241e+11 (0.167 sec)\n",
      "INFO:tensorflow:global_step/sec: 550.846\n",
      "INFO:tensorflow:step = 10201, loss = 1.85728e+11 (0.166 sec)\n",
      "INFO:tensorflow:global_step/sec: 656.722\n",
      "INFO:tensorflow:step = 10301, loss = 1.56453e+11 (0.152 sec)\n",
      "INFO:tensorflow:global_step/sec: 743.397\n",
      "INFO:tensorflow:step = 10401, loss = 1.65974e+11 (0.150 sec)\n",
      "INFO:tensorflow:global_step/sec: 603.206\n",
      "INFO:tensorflow:step = 10501, loss = 7.7067e+10 (0.150 sec)\n",
      "INFO:tensorflow:global_step/sec: 607.833\n",
      "INFO:tensorflow:step = 10601, loss = 1.30985e+11 (0.165 sec)\n",
      "INFO:tensorflow:global_step/sec: 595.516\n",
      "INFO:tensorflow:step = 10701, loss = 2.26449e+11 (0.168 sec)\n",
      "INFO:tensorflow:global_step/sec: 597.153\n",
      "INFO:tensorflow:step = 10801, loss = 1.48872e+11 (0.167 sec)\n",
      "INFO:tensorflow:global_step/sec: 670.996\n",
      "INFO:tensorflow:step = 10901, loss = 7.28538e+10 (0.165 sec)\n",
      "INFO:tensorflow:global_step/sec: 548.597\n",
      "INFO:tensorflow:step = 11001, loss = 1.5333e+11 (0.167 sec)\n",
      "INFO:tensorflow:global_step/sec: 660.935\n",
      "INFO:tensorflow:step = 11101, loss = 5.42252e+10 (0.151 sec)\n",
      "INFO:tensorflow:global_step/sec: 603.326\n",
      "INFO:tensorflow:step = 11201, loss = 4.88802e+10 (0.166 sec)\n",
      "INFO:tensorflow:global_step/sec: 657.313\n",
      "INFO:tensorflow:step = 11301, loss = 1.09901e+11 (0.152 sec)\n",
      "INFO:tensorflow:global_step/sec: 607.382\n",
      "INFO:tensorflow:step = 11401, loss = 1.71156e+11 (0.165 sec)\n",
      "INFO:tensorflow:global_step/sec: 660.269\n",
      "INFO:tensorflow:step = 11501, loss = 1.02644e+11 (0.167 sec)\n",
      "INFO:tensorflow:global_step/sec: 546.134\n",
      "INFO:tensorflow:step = 11601, loss = 1.36153e+11 (0.167 sec)\n",
      "INFO:tensorflow:global_step/sec: 602.52\n",
      "INFO:tensorflow:step = 11701, loss = 1.42843e+11 (0.166 sec)\n",
      "INFO:tensorflow:global_step/sec: 662.352\n",
      "INFO:tensorflow:step = 11801, loss = 3.1244e+11 (0.167 sec)\n",
      "INFO:tensorflow:global_step/sec: 547.321\n",
      "INFO:tensorflow:step = 11901, loss = 7.43344e+10 (0.167 sec)\n",
      "INFO:tensorflow:global_step/sec: 662.971\n",
      "INFO:tensorflow:step = 12001, loss = 1.46908e+11 (0.166 sec)\n",
      "INFO:tensorflow:global_step/sec: 602.389\n",
      "INFO:tensorflow:step = 12101, loss = 8.85338e+10 (0.150 sec)\n",
      "INFO:tensorflow:global_step/sec: 676.083\n",
      "INFO:tensorflow:step = 12201, loss = 8.69816e+10 (0.148 sec)\n",
      "INFO:tensorflow:global_step/sec: 593.438\n",
      "INFO:tensorflow:step = 12301, loss = 9.55161e+10 (0.169 sec)\n",
      "INFO:tensorflow:global_step/sec: 677.997\n",
      "INFO:tensorflow:step = 12401, loss = 6.51249e+10 (0.147 sec)\n",
      "INFO:tensorflow:global_step/sec: 648.884\n",
      "INFO:tensorflow:step = 12501, loss = 7.37112e+10 (0.154 sec)\n",
      "INFO:tensorflow:global_step/sec: 666.036\n",
      "INFO:tensorflow:step = 12601, loss = 8.26355e+10 (0.150 sec)\n",
      "INFO:tensorflow:global_step/sec: 602.068\n",
      "INFO:tensorflow:step = 12701, loss = 6.49591e+10 (0.166 sec)\n",
      "INFO:tensorflow:global_step/sec: 694.683\n",
      "INFO:tensorflow:step = 12801, loss = 4.09007e+10 (0.144 sec)\n",
      "INFO:tensorflow:global_step/sec: 576.874\n",
      "INFO:tensorflow:step = 12901, loss = 4.19322e+10 (0.176 sec)\n",
      "INFO:tensorflow:global_step/sec: 604.998\n",
      "INFO:tensorflow:step = 13001, loss = 7.02424e+10 (0.163 sec)\n",
      "INFO:tensorflow:global_step/sec: 596.942\n",
      "INFO:tensorflow:step = 13101, loss = 1.33675e+11 (0.168 sec)\n",
      "INFO:tensorflow:global_step/sec: 662.963\n",
      "INFO:tensorflow:step = 13201, loss = 8.34752e+10 (0.151 sec)\n",
      "INFO:tensorflow:global_step/sec: 552.871\n",
      "INFO:tensorflow:step = 13301, loss = 1.47651e+11 (0.181 sec)\n",
      "INFO:tensorflow:global_step/sec: 657.031\n",
      "INFO:tensorflow:step = 13401, loss = 7.84941e+10 (0.152 sec)\n",
      "INFO:tensorflow:global_step/sec: 647.56\n",
      "INFO:tensorflow:step = 13501, loss = 4.12643e+10 (0.154 sec)\n",
      "INFO:tensorflow:global_step/sec: 623.237\n",
      "INFO:tensorflow:step = 13601, loss = 1.44767e+11 (0.160 sec)\n",
      "INFO:tensorflow:global_step/sec: 658.313\n",
      "INFO:tensorflow:step = 13701, loss = 3.31587e+10 (0.152 sec)\n",
      "INFO:tensorflow:global_step/sec: 602.782\n",
      "INFO:tensorflow:step = 13801, loss = 7.42984e+10 (0.166 sec)\n",
      "INFO:tensorflow:global_step/sec: 599.519\n",
      "INFO:tensorflow:step = 13901, loss = 1.17523e+11 (0.167 sec)\n",
      "INFO:tensorflow:global_step/sec: 658.938\n",
      "INFO:tensorflow:step = 14001, loss = 8.09104e+10 (0.152 sec)\n",
      "INFO:tensorflow:global_step/sec: 669.924\n",
      "INFO:tensorflow:step = 14101, loss = 1.20591e+11 (0.149 sec)\n",
      "INFO:tensorflow:global_step/sec: 602.843\n",
      "INFO:tensorflow:step = 14201, loss = 6.80497e+10 (0.166 sec)\n",
      "INFO:tensorflow:global_step/sec: 663.444\n",
      "INFO:tensorflow:step = 14301, loss = 1.17112e+11 (0.151 sec)\n",
      "INFO:tensorflow:global_step/sec: 662.754\n",
      "INFO:tensorflow:step = 14401, loss = 5.79015e+10 (0.151 sec)\n",
      "INFO:tensorflow:global_step/sec: 605.861\n",
      "INFO:tensorflow:step = 14501, loss = 1.26019e+11 (0.181 sec)\n",
      "INFO:tensorflow:global_step/sec: 544.207\n",
      "INFO:tensorflow:step = 14601, loss = 1.13333e+11 (0.168 sec)\n",
      "INFO:tensorflow:global_step/sec: 594.755\n",
      "INFO:tensorflow:step = 14701, loss = 3.71878e+10 (0.168 sec)\n",
      "INFO:tensorflow:global_step/sec: 602.76\n",
      "INFO:tensorflow:step = 14801, loss = 1.01991e+11 (0.166 sec)\n",
      "INFO:tensorflow:global_step/sec: 603.444\n",
      "INFO:tensorflow:step = 14901, loss = 3.9558e+10 (0.166 sec)\n",
      "INFO:tensorflow:global_step/sec: 626.114\n",
      "INFO:tensorflow:step = 15001, loss = 1.39008e+11 (0.175 sec)\n",
      "INFO:tensorflow:global_step/sec: 575.412\n",
      "INFO:tensorflow:step = 15101, loss = 1.65435e+11 (0.174 sec)\n",
      "INFO:tensorflow:global_step/sec: 595.787\n",
      "INFO:tensorflow:step = 15201, loss = 3.89061e+10 (0.152 sec)\n",
      "INFO:tensorflow:global_step/sec: 654.673\n",
      "INFO:tensorflow:step = 15301, loss = 1.29354e+11 (0.168 sec)\n",
      "INFO:tensorflow:global_step/sec: 610.378\n",
      "INFO:tensorflow:step = 15401, loss = 1.12946e+11 (0.164 sec)\n",
      "INFO:tensorflow:global_step/sec: 597.451\n",
      "INFO:tensorflow:step = 15501, loss = 9.02914e+10 (0.152 sec)\n",
      "INFO:tensorflow:global_step/sec: 668.361\n",
      "INFO:tensorflow:step = 15601, loss = 8.62186e+10 (0.165 sec)\n",
      "INFO:tensorflow:global_step/sec: 598.395\n",
      "INFO:tensorflow:step = 15701, loss = 3.7845e+10 (0.151 sec)\n",
      "INFO:tensorflow:global_step/sec: 606.402\n",
      "INFO:tensorflow:step = 15801, loss = 6.86352e+10 (0.165 sec)\n",
      "INFO:tensorflow:global_step/sec: 663.351\n",
      "INFO:tensorflow:step = 15901, loss = 4.06945e+10 (0.151 sec)\n",
      "INFO:tensorflow:global_step/sec: 650.563\n",
      "INFO:tensorflow:step = 16001, loss = 5.15579e+10 (0.169 sec)\n",
      "INFO:tensorflow:global_step/sec: 608.693\n",
      "INFO:tensorflow:step = 16101, loss = 4.58396e+10 (0.149 sec)\n"
     ]
    },
    {
     "name": "stdout",
     "output_type": "stream",
     "text": [
      "INFO:tensorflow:global_step/sec: 602.094\n",
      "INFO:tensorflow:step = 16201, loss = 6.75849e+10 (0.166 sec)\n",
      "INFO:tensorflow:global_step/sec: 675.607\n",
      "INFO:tensorflow:step = 16301, loss = 9.99252e+10 (0.148 sec)\n",
      "INFO:tensorflow:global_step/sec: 602.78\n",
      "INFO:tensorflow:step = 16401, loss = 8.57879e+10 (0.166 sec)\n",
      "INFO:tensorflow:global_step/sec: 603.669\n",
      "INFO:tensorflow:step = 16501, loss = 9.25398e+10 (0.166 sec)\n",
      "INFO:tensorflow:global_step/sec: 640.629\n",
      "INFO:tensorflow:step = 16601, loss = 1.2005e+11 (0.156 sec)\n",
      "INFO:tensorflow:global_step/sec: 629.569\n",
      "INFO:tensorflow:step = 16701, loss = 2.45715e+10 (0.174 sec)\n",
      "INFO:tensorflow:global_step/sec: 651.487\n",
      "INFO:tensorflow:step = 16801, loss = 4.22685e+10 (0.138 sec)\n",
      "INFO:tensorflow:global_step/sec: 612.838\n",
      "INFO:tensorflow:step = 16901, loss = 5.61928e+10 (0.179 sec)\n",
      "INFO:tensorflow:global_step/sec: 591.421\n",
      "INFO:tensorflow:step = 17001, loss = 1.61594e+11 (0.153 sec)\n",
      "INFO:tensorflow:global_step/sec: 595.647\n",
      "INFO:tensorflow:step = 17101, loss = 4.21878e+10 (0.184 sec)\n",
      "INFO:tensorflow:global_step/sec: 600.058\n",
      "INFO:tensorflow:step = 17201, loss = 7.78424e+10 (0.167 sec)\n",
      "INFO:tensorflow:global_step/sec: 548.2\n",
      "INFO:tensorflow:step = 17301, loss = 5.55902e+10 (0.167 sec)\n",
      "INFO:tensorflow:global_step/sec: 600.829\n",
      "INFO:tensorflow:step = 17401, loss = 1.17242e+11 (0.166 sec)\n",
      "INFO:tensorflow:global_step/sec: 659.9\n",
      "INFO:tensorflow:step = 17501, loss = 1.17611e+11 (0.152 sec)\n",
      "INFO:tensorflow:global_step/sec: 600.027\n",
      "INFO:tensorflow:step = 17601, loss = 7.10697e+10 (0.182 sec)\n",
      "INFO:tensorflow:global_step/sec: 600.336\n",
      "INFO:tensorflow:step = 17701, loss = 8.77841e+10 (0.167 sec)\n",
      "INFO:tensorflow:global_step/sec: 545.992\n",
      "INFO:tensorflow:step = 17801, loss = 2.21907e+11 (0.170 sec)\n",
      "INFO:tensorflow:global_step/sec: 663.29\n",
      "INFO:tensorflow:step = 17901, loss = 5.27267e+10 (0.149 sec)\n",
      "INFO:tensorflow:global_step/sec: 671.825\n",
      "INFO:tensorflow:step = 18001, loss = 1.15756e+11 (0.149 sec)\n",
      "INFO:tensorflow:global_step/sec: 593.299\n",
      "INFO:tensorflow:step = 18101, loss = 7.36169e+10 (0.169 sec)\n",
      "INFO:tensorflow:global_step/sec: 671.257\n",
      "INFO:tensorflow:step = 18201, loss = 5.52914e+10 (0.149 sec)\n",
      "INFO:tensorflow:global_step/sec: 552.331\n",
      "INFO:tensorflow:step = 18301, loss = 5.52332e+10 (0.181 sec)\n",
      "INFO:tensorflow:global_step/sec: 634.521\n",
      "INFO:tensorflow:step = 18401, loss = 7.88638e+10 (0.158 sec)\n",
      "INFO:tensorflow:global_step/sec: 618.801\n",
      "INFO:tensorflow:step = 18501, loss = 2.75076e+10 (0.162 sec)\n",
      "INFO:tensorflow:global_step/sec: 601.285\n",
      "INFO:tensorflow:step = 18601, loss = 8.15938e+10 (0.182 sec)\n",
      "INFO:tensorflow:global_step/sec: 600.677\n",
      "INFO:tensorflow:step = 18701, loss = 7.53561e+10 (0.151 sec)\n",
      "INFO:tensorflow:global_step/sec: 666.172\n",
      "INFO:tensorflow:step = 18801, loss = 5.59098e+10 (0.150 sec)\n",
      "INFO:tensorflow:global_step/sec: 666.262\n",
      "INFO:tensorflow:step = 18901, loss = 4.17915e+10 (0.150 sec)\n",
      "INFO:tensorflow:global_step/sec: 733.902\n",
      "INFO:tensorflow:step = 19001, loss = 9.72525e+10 (0.136 sec)\n",
      "INFO:tensorflow:global_step/sec: 608.841\n",
      "INFO:tensorflow:step = 19101, loss = 2.11501e+11 (0.164 sec)\n",
      "INFO:tensorflow:global_step/sec: 660.58\n",
      "INFO:tensorflow:step = 19201, loss = 5.45098e+10 (0.167 sec)\n",
      "INFO:tensorflow:global_step/sec: 601.159\n",
      "INFO:tensorflow:step = 19301, loss = 4.69685e+10 (0.151 sec)\n",
      "INFO:tensorflow:global_step/sec: 607.905\n",
      "INFO:tensorflow:step = 19401, loss = 5.91485e+10 (0.164 sec)\n",
      "INFO:tensorflow:global_step/sec: 657.159\n",
      "INFO:tensorflow:step = 19501, loss = 5.12337e+10 (0.152 sec)\n",
      "INFO:tensorflow:global_step/sec: 668.234\n",
      "INFO:tensorflow:step = 19601, loss = 9.62098e+10 (0.150 sec)\n",
      "INFO:tensorflow:global_step/sec: 666.77\n",
      "INFO:tensorflow:step = 19701, loss = 4.42056e+10 (0.150 sec)\n",
      "INFO:tensorflow:global_step/sec: 665.184\n",
      "INFO:tensorflow:step = 19801, loss = 2.4052e+10 (0.150 sec)\n",
      "INFO:tensorflow:global_step/sec: 604.057\n",
      "INFO:tensorflow:step = 19901, loss = 5.70893e+10 (0.166 sec)\n",
      "INFO:tensorflow:global_step/sec: 600.402\n",
      "INFO:tensorflow:step = 20001, loss = 9.68212e+10 (0.167 sec)\n",
      "INFO:tensorflow:global_step/sec: 662.199\n",
      "INFO:tensorflow:step = 20101, loss = 5.09607e+10 (0.151 sec)\n",
      "INFO:tensorflow:global_step/sec: 666.814\n",
      "INFO:tensorflow:step = 20201, loss = 1.56241e+11 (0.150 sec)\n",
      "INFO:tensorflow:global_step/sec: 588.39\n",
      "INFO:tensorflow:step = 20301, loss = 1.43618e+11 (0.170 sec)\n",
      "INFO:tensorflow:global_step/sec: 612.226\n",
      "INFO:tensorflow:step = 20401, loss = 1.13279e+11 (0.163 sec)\n",
      "INFO:tensorflow:global_step/sec: 605.068\n",
      "INFO:tensorflow:step = 20501, loss = 8.09315e+10 (0.165 sec)\n",
      "INFO:tensorflow:global_step/sec: 597.201\n",
      "INFO:tensorflow:step = 20601, loss = 9.0708e+10 (0.167 sec)\n",
      "INFO:tensorflow:global_step/sec: 592.765\n",
      "INFO:tensorflow:step = 20701, loss = 5.367e+10 (0.169 sec)\n",
      "INFO:tensorflow:global_step/sec: 652.481\n",
      "INFO:tensorflow:step = 20801, loss = 7.7531e+10 (0.169 sec)\n",
      "INFO:tensorflow:global_step/sec: 557.552\n",
      "INFO:tensorflow:step = 20901, loss = 7.00062e+10 (0.164 sec)\n",
      "INFO:tensorflow:global_step/sec: 672.076\n",
      "INFO:tensorflow:step = 21001, loss = 1.38791e+11 (0.164 sec)\n",
      "INFO:tensorflow:global_step/sec: 547.762\n",
      "INFO:tensorflow:step = 21101, loss = 6.33698e+10 (0.167 sec)\n",
      "INFO:tensorflow:global_step/sec: 660.974\n",
      "INFO:tensorflow:step = 21201, loss = 1.62784e+11 (0.151 sec)\n",
      "INFO:tensorflow:global_step/sec: 602.923\n",
      "INFO:tensorflow:step = 21301, loss = 3.77641e+10 (0.182 sec)\n",
      "INFO:tensorflow:global_step/sec: 594.241\n",
      "INFO:tensorflow:step = 21401, loss = 1.36647e+11 (0.153 sec)\n",
      "INFO:tensorflow:global_step/sec: 602.626\n",
      "INFO:tensorflow:step = 21501, loss = 1.73817e+11 (0.166 sec)\n",
      "INFO:tensorflow:global_step/sec: 603.411\n",
      "INFO:tensorflow:step = 21601, loss = 2.52528e+11 (0.166 sec)\n",
      "INFO:tensorflow:global_step/sec: 656.339\n",
      "INFO:tensorflow:step = 21701, loss = 5.24806e+10 (0.168 sec)\n",
      "INFO:tensorflow:global_step/sec: 552.501\n",
      "INFO:tensorflow:step = 21801, loss = 1.29135e+11 (0.165 sec)\n",
      "INFO:tensorflow:global_step/sec: 673.016\n",
      "INFO:tensorflow:step = 21901, loss = 1.43878e+11 (0.149 sec)\n",
      "INFO:tensorflow:global_step/sec: 656.265\n",
      "INFO:tensorflow:step = 22001, loss = 7.53756e+10 (0.152 sec)\n",
      "INFO:tensorflow:global_step/sec: 660.932\n",
      "INFO:tensorflow:step = 22101, loss = 9.69759e+10 (0.151 sec)\n",
      "INFO:tensorflow:global_step/sec: 664.771\n",
      "INFO:tensorflow:step = 22201, loss = 6.42685e+10 (0.150 sec)\n",
      "INFO:tensorflow:global_step/sec: 603.652\n",
      "INFO:tensorflow:step = 22301, loss = 7.21357e+10 (0.166 sec)\n",
      "INFO:tensorflow:global_step/sec: 664.272\n",
      "INFO:tensorflow:step = 22401, loss = 8.36172e+10 (0.166 sec)\n",
      "INFO:tensorflow:global_step/sec: 548.234\n",
      "INFO:tensorflow:step = 22501, loss = 3.97971e+10 (0.167 sec)\n",
      "INFO:tensorflow:global_step/sec: 598.572\n",
      "INFO:tensorflow:step = 22601, loss = 1.10408e+11 (0.167 sec)\n",
      "INFO:tensorflow:global_step/sec: 661.273\n",
      "INFO:tensorflow:step = 22701, loss = 8.77534e+10 (0.167 sec)\n",
      "INFO:tensorflow:global_step/sec: 540.06\n",
      "INFO:tensorflow:step = 22801, loss = 1.52378e+11 (0.172 sec)\n",
      "INFO:tensorflow:global_step/sec: 672.779\n",
      "INFO:tensorflow:step = 22901, loss = 7.38418e+10 (0.147 sec)\n",
      "INFO:tensorflow:global_step/sec: 672.617\n",
      "INFO:tensorflow:step = 23001, loss = 5.77262e+10 (0.149 sec)\n",
      "INFO:tensorflow:global_step/sec: 603.322\n",
      "INFO:tensorflow:step = 23101, loss = 5.81058e+10 (0.166 sec)\n",
      "INFO:tensorflow:global_step/sec: 657.562\n",
      "INFO:tensorflow:step = 23201, loss = 1.05554e+11 (0.152 sec)\n",
      "INFO:tensorflow:global_step/sec: 597.458\n",
      "INFO:tensorflow:step = 23301, loss = 1.7371e+11 (0.183 sec)\n",
      "INFO:tensorflow:global_step/sec: 549.755\n",
      "INFO:tensorflow:step = 23401, loss = 2.15328e+11 (0.166 sec)\n",
      "INFO:tensorflow:global_step/sec: 665.578\n",
      "INFO:tensorflow:step = 23501, loss = 1.05327e+11 (0.166 sec)\n",
      "INFO:tensorflow:global_step/sec: 597.853\n",
      "INFO:tensorflow:step = 23601, loss = 7.25407e+10 (0.152 sec)\n",
      "INFO:tensorflow:global_step/sec: 602.727\n",
      "INFO:tensorflow:step = 23701, loss = 6.61671e+10 (0.166 sec)\n",
      "INFO:tensorflow:global_step/sec: 602.626\n",
      "INFO:tensorflow:step = 23801, loss = 9.80104e+10 (0.182 sec)\n",
      "INFO:tensorflow:global_step/sec: 545.093\n",
      "INFO:tensorflow:step = 23901, loss = 1.02975e+11 (0.168 sec)\n",
      "INFO:tensorflow:global_step/sec: 598.805\n",
      "INFO:tensorflow:step = 24001, loss = 1.86945e+11 (0.183 sec)\n",
      "INFO:tensorflow:global_step/sec: 597.038\n",
      "INFO:tensorflow:step = 24101, loss = 5.85105e+10 (0.168 sec)\n",
      "INFO:tensorflow:global_step/sec: 595.894\n",
      "INFO:tensorflow:step = 24201, loss = 1.86913e+11 (0.152 sec)\n"
     ]
    },
    {
     "name": "stdout",
     "output_type": "stream",
     "text": [
      "INFO:tensorflow:global_step/sec: 665.904\n",
      "INFO:tensorflow:step = 24301, loss = 5.12503e+10 (0.166 sec)\n",
      "INFO:tensorflow:global_step/sec: 613.512\n",
      "INFO:tensorflow:step = 24401, loss = 5.06577e+10 (0.147 sec)\n",
      "INFO:tensorflow:global_step/sec: 555.104\n",
      "INFO:tensorflow:step = 24501, loss = 5.14864e+10 (0.180 sec)\n",
      "INFO:tensorflow:global_step/sec: 653.798\n",
      "INFO:tensorflow:step = 24601, loss = 5.51169e+10 (0.153 sec)\n",
      "INFO:tensorflow:global_step/sec: 600.238\n",
      "INFO:tensorflow:step = 24701, loss = 1.22873e+11 (0.167 sec)\n",
      "INFO:tensorflow:global_step/sec: 662.401\n",
      "INFO:tensorflow:step = 24801, loss = 7.80827e+10 (0.167 sec)\n",
      "INFO:tensorflow:global_step/sec: 601.567\n",
      "INFO:tensorflow:step = 24901, loss = 6.2844e+10 (0.151 sec)\n",
      "INFO:tensorflow:Saving checkpoints for 25000 into C:\\Users\\apurv\\AppData\\Local\\Temp\\tmpwyhj4b0h\\model.ckpt.\n",
      "INFO:tensorflow:Loss for final step: 4.71749e+10.\n"
     ]
    },
    {
     "data": {
      "text/plain": [
       "<tensorflow.python.estimator.canned.dnn.DNNRegressor at 0x17ecfbc57b8>"
      ]
     },
     "execution_count": 148,
     "metadata": {},
     "output_type": "execute_result"
    }
   ],
   "source": [
    "model.train(input_fn=input_func,steps=25000)"
   ]
  },
  {
   "cell_type": "markdown",
   "metadata": {},
   "source": [
    "** Create a prediction input function and then use the .predict method off your estimator model to create a list or predictions on your test data. **"
   ]
  },
  {
   "cell_type": "code",
   "execution_count": 149,
   "metadata": {
    "collapsed": true
   },
   "outputs": [],
   "source": [
    "predict_input_func = tf.estimator.inputs.pandas_input_fn(x=x_test,batch_size=10,num_epochs=1,shuffle=False)"
   ]
  },
  {
   "cell_type": "code",
   "execution_count": 150,
   "metadata": {
    "collapsed": true
   },
   "outputs": [],
   "source": [
    "pred_gen = model.predict(predict_input_func)"
   ]
  },
  {
   "cell_type": "code",
   "execution_count": 151,
   "metadata": {},
   "outputs": [
    {
     "name": "stdout",
     "output_type": "stream",
     "text": [
      "INFO:tensorflow:Restoring parameters from C:\\Users\\apurv\\AppData\\Local\\Temp\\tmpwyhj4b0h\\model.ckpt-25000\n"
     ]
    }
   ],
   "source": [
    "predictions = list(pred_gen)"
   ]
  },
  {
   "cell_type": "code",
   "execution_count": 152,
   "metadata": {
    "collapsed": true
   },
   "outputs": [],
   "source": [
    "final_preds = []\n",
    "for pred in predictions:\n",
    "    final_preds.append(pred['predictions'])"
   ]
  },
  {
   "cell_type": "markdown",
   "metadata": {},
   "source": [
    "** Calculate the RMSE.**"
   ]
  },
  {
   "cell_type": "code",
   "execution_count": 153,
   "metadata": {
    "collapsed": true
   },
   "outputs": [],
   "source": [
    "from sklearn.metrics import mean_squared_error"
   ]
  },
  {
   "cell_type": "code",
   "execution_count": 154,
   "metadata": {},
   "outputs": [
    {
     "data": {
      "text/plain": [
       "97969.857944518764"
      ]
     },
     "execution_count": 154,
     "metadata": {},
     "output_type": "execute_result"
    }
   ],
   "source": [
    "mean_squared_error(y_test,final_preds)**0.5"
   ]
  }
 ],
 "metadata": {
  "kernelspec": {
   "display_name": "Python 3",
   "language": "python",
   "name": "python3"
  },
  "language_info": {
   "codemirror_mode": {
    "name": "ipython",
    "version": 3
   },
   "file_extension": ".py",
   "mimetype": "text/x-python",
   "name": "python",
   "nbconvert_exporter": "python",
   "pygments_lexer": "ipython3",
   "version": "3.5.4"
  }
 },
 "nbformat": 4,
 "nbformat_minor": 2
}
